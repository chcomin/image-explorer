{
 "cells": [
  {
   "cell_type": "code",
   "execution_count": 7,
   "metadata": {},
   "outputs": [],
   "source": [
    "%load_ext autoreload\n",
    "%autoreload 2"
   ]
  },
  {
   "cell_type": "code",
   "execution_count": 8,
   "metadata": {},
   "outputs": [
    {
     "data": {
      "application/vnd.jupyter.widget-view+json": {
       "model_id": "5df48d98c5a0472f93e6192434903050",
       "version_major": 2,
       "version_minor": 0
      },
      "text/plain": [
       "Output(layout=Layout(border='1px solid black'))"
      ]
     },
     "metadata": {},
     "output_type": "display_data"
    }
   ],
   "source": [
    "%matplotlib notebook\n",
    "from results_explorer import InteractiveExperimenter\n",
    "import numpy as np\n",
    "        \n",
    "def process(img, first_index, last_index, square_value):\n",
    "\n",
    "    img = img.copy()\n",
    "    # Put square on image\n",
    "    if last_index>first_index:\n",
    "        img[first_index:last_index, first_index:last_index] = square_value\n",
    "    \n",
    "    return img\n",
    "\n",
    "        \n",
    "first_index = [0, 10, 100, 200]\n",
    "last_index = [11, 101, 250, 301]\n",
    "square_value = [0, 50, 150, 200, 255]\n",
    "img = 255*np.random.rand(300, 300)\n",
    "\n",
    "parameters = {'first_index':first_index, 'last_index':last_index, 'square_value':square_value}\n",
    "\n",
    "\n",
    "ie = InteractiveExperimenter(parameters, process)\n",
    "ie.run(img)"
   ]
  },
  {
   "cell_type": "code",
   "execution_count": null,
   "metadata": {},
   "outputs": [],
   "source": []
  }
 ],
 "metadata": {
  "kernelspec": {
   "display_name": "Python 3",
   "language": "python",
   "name": "python3"
  },
  "language_info": {
   "codemirror_mode": {
    "name": "ipython",
    "version": 3
   },
   "file_extension": ".py",
   "mimetype": "text/x-python",
   "name": "python",
   "nbconvert_exporter": "python",
   "pygments_lexer": "ipython3",
   "version": "3.7.4"
  }
 },
 "nbformat": 4,
 "nbformat_minor": 4
}
