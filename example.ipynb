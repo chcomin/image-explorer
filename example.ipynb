{
 "cells": [
  {
   "cell_type": "code",
   "execution_count": 6,
   "metadata": {},
   "outputs": [
    {
     "name": "stdout",
     "output_type": "stream",
     "text": [
      "The autoreload extension is already loaded. To reload it, use:\n",
      "  %reload_ext autoreload\n"
     ]
    }
   ],
   "source": [
    "%load_ext autoreload\n",
    "%autoreload 2"
   ]
  },
  {
   "cell_type": "markdown",
   "metadata": {},
   "source": [
    "# Example usage"
   ]
  },
  {
   "cell_type": "code",
   "execution_count": 16,
   "metadata": {},
   "outputs": [
    {
     "data": {
      "application/vnd.jupyter.widget-view+json": {
       "model_id": "37ffebf65441465497e8c6859e9ca923",
       "version_major": 2,
       "version_minor": 0
      },
      "text/plain": [
       "Output(layout=Layout(border='1px solid black'))"
      ]
     },
     "metadata": {},
     "output_type": "display_data"
    }
   ],
   "source": [
    "%matplotlib notebook\n",
    "from image_explorer import InteractiveExperimenter\n",
    "import matplotlib.pyplot as plt\n",
    "import scipy.ndimage as ndi         # For processing the image for this example\n",
    "import numpy as np    \n",
    "    \n",
    "def process(img, sigma, order, should_threshold, threshold):\n",
    "\n",
    "    # Gaussian smoothing with derivative\n",
    "    img_proc = np.abs(ndi.gaussian_filter(img, sigma, order))\n",
    "    if should_threshold:\n",
    "        # Apply threshold to image\n",
    "        img_proc = img_proc > threshold\n",
    "    \n",
    "    return img_proc\n",
    "\n",
    "########## Parameters ############\n",
    "sigma = [1, 3, 5, 8]\n",
    "order = [0, 1, 2]\n",
    "should_threshold = [0, 1]\n",
    "threshold = [1, 10, 50, 100, 150]\n",
    "##################################\n",
    "img = plt.imread('cameraman.tiff').astype(float)\n",
    "\n",
    "parameters = {'sigma':sigma, 'order':order, 'should_threshold':should_threshold, 'threshold':threshold}\n",
    "\n",
    "ie = InteractiveExperimenter(parameters, process, figsize=[8,8])\n",
    "ie.run(img)"
   ]
  },
  {
   "cell_type": "markdown",
   "metadata": {},
   "source": [
    "# Example of exploring a set of images"
   ]
  },
  {
   "cell_type": "code",
   "execution_count": 20,
   "metadata": {},
   "outputs": [
    {
     "data": {
      "application/vnd.jupyter.widget-view+json": {
       "model_id": "c54d0c7bb18141c4b8566325b5655255",
       "version_major": 2,
       "version_minor": 0
      },
      "text/plain": [
       "Output(layout=Layout(border='1px solid black'))"
      ]
     },
     "metadata": {},
     "output_type": "display_data"
    }
   ],
   "source": [
    "def process(imgs, index, sigma, order, should_threshold, threshold):\n",
    "    \"\"\"This function is the same as above, but now it receives an image list and\n",
    "    the index of the image to be processed.\"\"\"\n",
    "\n",
    "    img = imgs[index]\n",
    "    # Gaussian smoothing with derivative\n",
    "    img_proc = np.abs(ndi.gaussian_filter(img, sigma, order))\n",
    "    if should_threshold:\n",
    "        # Apply threshold to image\n",
    "        img_proc = img_proc > threshold\n",
    "    \n",
    "    return img_proc\n",
    "\n",
    "def selector(imgs, index, **kwargs):\n",
    "    \"\"\"Function used for selecting the image that will be shown. It receives the same\n",
    "    parameters as function `process`. We can ignore them using **kwargs.\"\"\"\n",
    "    \n",
    "    return imgs[index]\n",
    "\n",
    "########## Parameters ############\n",
    "sigma = [1, 3, 5, 8]\n",
    "order = [0, 1, 2]\n",
    "should_threshold = [0, 1]\n",
    "threshold = [1, 10, 50, 100, 150]\n",
    "##################################\n",
    "\n",
    "img = plt.imread('cameraman.tiff').astype(float)\n",
    "# Create four images and respective indices\n",
    "imgs = [img[:128, :128], img[:128, 128:], img[128:, :128], img[128:, 128:]]\n",
    "index = [0, 1, 2, 3]\n",
    "\n",
    "parameters = {'index': index, 'sigma':sigma, 'order':order, \n",
    "              'should_threshold':should_threshold, 'threshold':threshold}\n",
    "\n",
    "ie = InteractiveExperimenter(parameters, process, img_selector=selector, figsize=[8,8])\n",
    "ie.run(imgs)"
   ]
  },
  {
   "cell_type": "code",
   "execution_count": null,
   "metadata": {},
   "outputs": [],
   "source": []
  }
 ],
 "metadata": {
  "kernelspec": {
   "display_name": "Python 3",
   "language": "python",
   "name": "python3"
  },
  "language_info": {
   "codemirror_mode": {
    "name": "ipython",
    "version": 3
   },
   "file_extension": ".py",
   "mimetype": "text/x-python",
   "name": "python",
   "nbconvert_exporter": "python",
   "pygments_lexer": "ipython3",
   "version": "3.7.4"
  }
 },
 "nbformat": 4,
 "nbformat_minor": 4
}
