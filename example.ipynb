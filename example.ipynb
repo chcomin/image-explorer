{
 "cells": [
  {
   "cell_type": "code",
   "execution_count": 1,
   "metadata": {},
   "outputs": [],
   "source": [
    "%load_ext autoreload\n",
    "%autoreload 2"
   ]
  },
  {
   "cell_type": "markdown",
   "metadata": {},
   "source": [
    "# Test"
   ]
  },
  {
   "cell_type": "code",
   "execution_count": 4,
   "metadata": {},
   "outputs": [
    {
     "data": {
      "application/vnd.jupyter.widget-view+json": {
       "model_id": "21b282fc97984206a59c7d9503a7dadc",
       "version_major": 2,
       "version_minor": 0
      },
      "text/plain": [
       "Output(layout=Layout(border='1px solid black'))"
      ]
     },
     "metadata": {},
     "output_type": "display_data"
    }
   ],
   "source": [
    "%matplotlib notebook\n",
    "from image_explorer import InteractiveExperimenter\n",
    "import matplotlib.pyplot as plt\n",
    "import scipy.ndimage as ndi         # For processing the image for this example\n",
    "import numpy as np    \n",
    "    \n",
    "def process(img, sigma, order, should_threshold, threshold):\n",
    "\n",
    "    # Gaussian smoothing with derivative\n",
    "    img_proc = np.abs(ndi.gaussian_filter(img, sigma, order))\n",
    "    if should_threshold:\n",
    "        # Apply threshold to image\n",
    "        img_proc = img_proc > threshold\n",
    "    \n",
    "    return img_proc\n",
    "\n",
    "########## Parameters ############\n",
    "sigma = [1, 3, 5, 8]\n",
    "order = [0, 1, 2]\n",
    "should_threshold = [0, 1]\n",
    "threshold = [1, 10, 50, 100, 150]\n",
    "##################################\n",
    "img = plt.imread('cameraman.tiff').astype(float)\n",
    "\n",
    "parameters = {'sigma':sigma, 'order':order, 'should_threshold':should_threshold, 'threshold':threshold}\n",
    "\n",
    "ie = InteractiveExperimenter(parameters, process, figsize=[8,8])\n",
    "ie.run(img)"
   ]
  },
  {
   "cell_type": "code",
   "execution_count": null,
   "metadata": {},
   "outputs": [],
   "source": []
  }
 ],
 "metadata": {
  "kernelspec": {
   "display_name": "Python 3",
   "language": "python",
   "name": "python3"
  },
  "language_info": {
   "codemirror_mode": {
    "name": "ipython",
    "version": 3
   },
   "file_extension": ".py",
   "mimetype": "text/x-python",
   "name": "python",
   "nbconvert_exporter": "python",
   "pygments_lexer": "ipython3",
   "version": "3.7.4"
  }
 },
 "nbformat": 4,
 "nbformat_minor": 4
}
